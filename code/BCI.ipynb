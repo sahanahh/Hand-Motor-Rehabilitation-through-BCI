{
 "cells": [
  {
   "cell_type": "code",
   "execution_count": null,
   "id": "88a6b4cd-bc82-411c-bde2-fb27938dc5f7",
   "metadata": {},
   "outputs": [],
   "source": [
    "import sys\n",
    "\n",
    "# Add the directory containing FBCSP_V4.py to the Python path\n",
    "fbcsp_path = r'C:\\Users\\a5149314\\Downloads\\FBCSP'\n",
    "sys.path.append(fbcsp_path)"
   ]
  },
  {
   "cell_type": "code",
   "execution_count": null,
   "id": "70406766-2b1d-444a-a1fb-0f9e6c0b0617",
   "metadata": {},
   "outputs": [],
   "source": [
    "# Now you should be able to import FBCSP_V4 directly from the file\n",
    "from FBCSP_V4 import FBCSP_V4 as FBCSP\n",
    "import mne\n",
    "from scipy.io import loadmat\n",
    "import scipy\n",
    "import sklearn\n",
    "import numpy as np\n",
    "import pandas as pd\n",
    "import glob\n",
    "from mne.decoding import CSP\n",
    "from sklearn.linear_model import LogisticRegression\n",
    "from sklearn.neighbors import KNeighborsClassifier\n",
    "from sklearn.svm import LinearSVC, SVC\n",
    "from sklearn.model_selection import train_test_split, cross_val_score, GridSearchCV, StratifiedShuffleSplit\n",
    "from sklearn.preprocessing import StandardScaler\n",
    "from sklearn.pipeline import make_pipeline\n",
    "from sklearn.discriminant_analysis import LinearDiscriminantAnalysis"
   ]
  },
  {
   "cell_type": "code",
   "execution_count": null,
   "id": "25b052d8-2ff5-4fa7-a9f3-69cba2492804",
   "metadata": {},
   "outputs": [],
   "source": [
    "import warnings\n",
    "warnings.filterwarnings('ignore') # to ignore warnings\n",
    "verbose = False                    # global variable to suppress output display of MNE functions\n",
    "mne.set_log_level(verbose=verbose) # to suppress large info outp\n",
    "verbose_clf = False # control output of FBCSP function\n",
    "freqs_band = np.linspace(8, 32, 7) # filter bank choice\n",
    "train_ratio = 0.75 # 75:25 for trian-valid split\n",
    "n_jobs = None  # for multicore parallel processing, set it to 1 if c"
   ]
  },
  {
   "cell_type": "code",
   "execution_count": null,
   "id": "22ae772f-2381-4fba-8acc-113ec78837fc",
   "metadata": {},
   "outputs": [],
   "source": [
    "# using kappa as evaluation metric\n",
    "kappa = sklearn.metrics.make_scorer(sklearn.metrics.cohen_kappa_score) # kappa scorer\n",
    "acc = sklearn.metrics.make_scorer(sklearn.metrics.accuracy_score)      # accuracy scorer\n",
    "scorer = kappa          # just assign another scorer to replace kapp\n",
    "data_path = r\"C:\\Users\\a5149314\\OneDrive - Renesas Electronics Corporation\\Desktop\\Sahana_MP\\Clinical-Brain-Computer-Interfaces-Challenge-WCCI-2020-Glasgow-master\"\n",
    "training_files   = glob.glob(data_path + '/*T.mat')\n",
    "len(training_files)     # if  return zero,then no file is loadedtraining_files   = glob.glob(data_path + '/*T.mat')\n",
    "len(training_files)     # if  return zero,then no file is loaded"
   ]
  },
  {
   "cell_type": "code",
   "execution_count": null,
   "id": "f785d13f-0fad-4061-a078-060e300b6d75",
   "metadata": {},
   "outputs": [],
   "source": [
    "def get_mne_epochs(filepath, verbose=verbose, t_start=2, fs=512, mode='train'):\n",
    "    '''\n",
    "    This function reads the EEG data from .mat file and convert it to MNE-Python Compatible epochs\n",
    "    data structure. It takes data from [0, 8] sec range and return it by setting t = 0 at cue onset\n",
    "    i.e. 3 seconds and dropping first two seconds so the output data is in [-1.0, 5.0] sec range. The\n",
    "    Details can be found in the preprocessing section of the attached document\n",
    "    '''\n",
    "    mat_data = loadmat(filepath) # read .mat file\n",
    "    eeg_data= mat_data['RawEEGData']\n",
    "    idx_start = fs*t_start      \n",
    "    eeg_data = eeg_data[:, :, idx_start:]\n",
    "    event_id = {'left-hand': 1, 'right-hand': 2}\n",
    "    channel_names = ['F3', 'FC3', 'C3', 'CP3', 'P3', 'FCz', 'CPz', 'F4', 'FC4', 'C4', 'CP4', 'P4']\n",
    "    info = mne.create_info(ch_names=channel_names, sfreq=fs, ch_types='eeg')\n",
    "    epochs = mne.EpochsArray(eeg_data, info, verbose=verbose, tmin=t_start-3.0)\n",
    "    epochs.set_montage('standard_1020')\n",
    "    epochs.filter(1., None) \n",
    "    epochs.apply_baseline(baseline=(-.250, 0)) # linear baseline correction\n",
    "    \n",
    "    if mode == 'train': # this in only applicable for training data\n",
    "        epochs.event_id = event_id\n",
    "        epochs.events[:,2] = mat_data['Labels'].ravel()    \n",
    "    return epochs \n"
   ]
  },
  {
   "cell_type": "code",
   "execution_count": null,
   "id": "574a01c9-dea1-4cf0-9e2f-9794177cdf99",
   "metadata": {},
   "outputs": [],
   "source": [
    "def get_labels(filepath):\n",
    "    mat_data = loadmat(filepath) # read .mat file\n",
    "    return mat_data['Labels'].ravel()\n"
   ]
  },
  {
   "cell_type": "code",
   "execution_count": null,
   "id": "d4ca3a0a-b20d-449f-b565-0ce2cfe53ff5",
   "metadata": {},
   "outputs": [],
   "source": [
    "epochs, labels = get_mne_epochs(training_files[0], verbose=verbose), get_labels(training_files[0])\n",
    "data = epochs.get_data()\n",
    "print('Shape of EEG Data: ', data.shape, '\\t Shape of Labels: ', labels.shape)\n"
   ]
  },
  {
   "cell_type": "code",
   "execution_count": null,
   "id": "d233eab3-80c2-4712-8bb2-4ee905ecfb77",
   "metadata": {},
   "outputs": [],
   "source": [
    "from sklearn.metrics import cohen_kappa_score\n"
   ]
  },
  {
   "cell_type": "code",
   "execution_count": null,
   "id": "e97c013d-f65f-44f2-bf5b-f9770aa30827",
   "metadata": {},
   "outputs": [],
   "source": [
    "# Correct the number of subjects to match the number of files\n",
    "group_list = []\n",
    "for subject in range(1, 11):  # Assuming there are 10 files\n",
    "    group_list.extend([subject for _ in range(80)])  # 80 samples in each training file\n",
    "groups = np.array(group_list)\n"
   ]
  },
  {
   "cell_type": "code",
   "execution_count": null,
   "id": "5a08ac5d-7b17-4538-a6d9-f93cd2f7f80d",
   "metadata": {},
   "outputs": [],
   "source": [
    "# loading original data\n",
    "epochs_list_train = []\n",
    "for i in training_files:\n",
    "    epochs_list_train.append(get_mne_epochs(i, verbose=verbose))\n",
    "for epoch in epochs_list_train:\n",
    "    epoch.filter(7.0, 32.0)\n",
    "epochs = epochs_list_train[0]\n",
    "data, labels = epochs.get_data(), epochs.events[:,-1]\n"
   ]
  },
  {
   "cell_type": "code",
   "execution_count": null,
   "id": "caa7d91e-8a3b-474f-9543-00a3b3afff54",
   "metadata": {},
   "outputs": [],
   "source": [
    "data_dict = {'left-hand':  epochs['left-hand'].get_data()[:,:,256+512:-256], # [0.5, 4.5] sec data\n",
    "             'right-hand': epochs['right-hand'].get_data()[:,:,256+512:-256]}\n",
    "fs = epochs.info['sfreq']\n"
   ]
  },
  {
   "cell_type": "code",
   "execution_count": null,
   "id": "b587658c-7f11-48fc-8f2a-a49e24a95192",
   "metadata": {},
   "outputs": [],
   "source": [
    "from sklearn.metrics import accuracy_score\n",
    "from sklearn.svm import SVC\n"
   ]
  },
  {
   "cell_type": "code",
   "execution_count": null,
   "id": "796ce180-9ab7-44e7-aae2-08c17862d443",
   "metadata": {},
   "outputs": [],
   "source": [
    "valid_scores_lda = []\n",
    "valid_scores_svc = []\n",
    "\n",
    "print('-'*15, 'FBCSP with LDA', '-'*15)\n",
    "fbcsp_clf_lda = FBCSP(data_dict, fs, freqs_band=freqs_band, classifier=LinearDiscriminantAnalysis())\n",
    "preds_fbcsp_clf_lda = fbcsp_clf_lda.evaluateTrial(data)[0]\n",
    "valid_scores_lda.append(accuracy_score(preds_fbcsp_clf_lda, labels))\n",
    "\n",
    "print('-'*15, 'FBCSP with SVC', '-'*15)\n",
    "fbcsp_clf_svc = FBCSP(data_dict, fs, freqs_band=freqs_band, classifier=SVC(probability=True))\n",
    "preds_fbcsp_clf_svc = fbcsp_clf_svc.evaluateTrial(data)[0]\n",
    "valid_scores_svc.append(accuracy_score(preds_fbcsp_clf_svc, labels))"
   ]
  },
  {
   "cell_type": "code",
   "execution_count": null,
   "id": "80c473d2-9803-4dbb-971f-60e2a93ab328",
   "metadata": {},
   "outputs": [],
   "source": [
    "# Print the results\n",
    "print(\"FBCSP with LDA Accuracy on Test set: \", np.mean(valid_scores_lda))\n",
    "print(\"FBCSP with SVC Accuracy on Test set: \", np.mean(valid_scores_svc))\n"
   ]
  },
  {
   "cell_type": "code",
   "execution_count": null,
   "id": "1bf174bd-0f60-4c6d-84ee-fbe01de993d3",
   "metadata": {},
   "outputs": [],
   "source": [
    "def training_function(subject_index=0):\n",
    "    print('-'*25, 'Training for Subject:', subject_index+1, '-'*25)\n",
    "    \n",
    "    # Load epochs data for the current subject\n",
    "    epochs = epochs_list_train[subject_index]\n",
    "    data_dict = {'left-hand': epochs['left-hand'].get_data()[:, :, 256+512:-256],  # [0.5, 4.5] sec data\n",
    "                 'right-hand': epochs['right-hand'].get_data()[:, :, 256+512:-256]}\n",
    "    fs = epochs.info['sfreq']\n",
    "    labels = epochs.events[:, -1]\n",
    "    \n",
    "    # Initialize FBCSP classifier for LDA\n",
    "    preds_fbcsp_clf_lda = fbcsp_clf_lda.evaluateTrial(data)[0]\n",
    "    valid_scores_lda.append(cohen_kappa_score(preds_fbcsp_clf_lda, labels))\n",
    "\n",
    "    print(\"FBCSP-LDA Kappa Score: {:.2f}\".format(np.mean(valid_scores_lda)))\n"
   ]
  },
  {
   "cell_type": "code",
   "execution_count": null,
   "id": "81f57ada-34d7-45ec-8e39-518cab017546",
   "metadata": {},
   "outputs": [],
   "source": [
    "# Call the function with the classifiers as arguments\n",
    "for subject in range(len(training_files)):\n",
    "    training_function(subject)\n"
   ]
  },
  {
   "cell_type": "code",
   "execution_count": null,
   "id": "d8b281ba-26f1-4b32-b264-d5b42a5e2b8d",
   "metadata": {},
   "outputs": [],
   "source": [
    "print(preds_fbcsp_clf_lda)\n"
   ]
  },
  {
   "cell_type": "code",
   "execution_count": null,
   "id": "a26a0be1-a4c9-4829-91c3-91a90baa6ec3",
   "metadata": {},
   "outputs": [],
   "source": [
    "# Example: Generate control signals based on predicted labels\n",
    "def generate_control_signal(preds_fbcsp_clf_lda):\n",
    "    control_signals = []\n",
    "    for label in preds_fbcsp_clf_lda:\n",
    "        if label == '2':\n",
    "            control_signals.append(\"Right hand grip\")\n",
    "        elif label == '1':\n",
    "            control_signals.append(\"Left hand grip\")\n",
    "    return control_signals\n",
    "    print(control_signals)\n"
   ]
  },
  {
   "cell_type": "code",
   "execution_count": null,
   "id": "19aec3a5-a38e-4e5b-b2fe-605b0f714625",
   "metadata": {},
   "outputs": [],
   "source": [
    "# Generate control signals\n",
    "control_signals = generate_control_signal(preds_fbcsp_clf_lda)\n"
   ]
  },
  {
   "cell_type": "code",
   "execution_count": null,
   "id": "d0322fdd-d3a5-49e6-97ee-9db11e74b518",
   "metadata": {},
   "outputs": [],
   "source": [
    "pip install pyserial\n"
   ]
  },
  {
   "cell_type": "code",
   "execution_count": null,
   "id": "e7302923-8a02-4207-9a12-e947597ba9af",
   "metadata": {},
   "outputs": [],
   "source": [
    "import serial\n",
    "import time\n",
    "serial_port = 'Ports (COM & LPT)'  # Adjust the port as per your system\n",
    "baud_rate = 9600\n"
   ]
  },
  {
   "cell_type": "code",
   "execution_count": null,
   "id": "753bd399-d5b0-4344-8cde-2882bc62b4bb",
   "metadata": {},
   "outputs": [],
   "source": [
    "# Define function to transmit control signals\n",
    "def transmit_control_signals(control_signals):\n",
    "    try:\n",
    "        # Open serial port\n",
    "        ser = serial.Serial(serial_port, baud_rate)\n",
    "        print(\"Serial port opened successfully.\")\n",
    "\n",
    "        # Transmit control signals\n",
    "        for signal in control_signals:\n",
    "            ser.write(signal.encode())  # Convert signal to bytes and send\n",
    "            print(\"Transmitted control signal:\", signal)\n",
    "            time.sleep(0.1)  # Add a small delay between transmissions\n",
    "            \n",
    "        # Close serial port\n",
    "        ser.close()\n",
    "        print(\"Serial port closed.\")\n",
    "\n",
    "    except serial.SerialException as e:\n",
    "        print(\"Serial port error:\", e)\n"
   ]
  },
  {
   "cell_type": "code",
   "execution_count": null,
   "id": "f1666ecc-b09b-454e-9b2a-dae06f90efcc",
   "metadata": {},
   "outputs": [],
   "source": [
    "pip install --upgrade setuptools"
   ]
  },
  {
   "cell_type": "code",
   "execution_count": null,
   "id": "f79c1881-e1cd-43a9-acb3-71dc5c8b9d34",
   "metadata": {},
   "outputs": [],
   "source": [
    "import serial\n",
    "import time\n",
    "\n",
    "# Define the serial port and baud rate\n",
    "serial_port = 'COM10'  # Adjust the port as per your system (e.g., 'COM10' for Windows)\n",
    "baud_rate = 9600\n"
   ]
  },
  {
   "cell_type": "code",
   "execution_count": null,
   "id": "81cca6c0-62ab-447b-a817-9308c081bf85",
   "metadata": {},
   "outputs": [],
   "source": [
    "# Function to establish connection and send data via UART\n",
    "def send_data_via_uart(label):\n",
    "    try:\n",
    "        # Open serial port\n",
    "        ser = serial.Serial(serial_port, baud_rate)\n",
    "        print(\"Serial port opened successfully.\")\n",
    "\n",
    "        # Send data (classified label) via UART\n",
    "        if label == 2:\n",
    "            ser.write(b'Right hand grip\\n')  # Send 'Right hand grip' for label indicating right-hand movement\n",
    "            print(\"r\")\n",
    "            time.sleep(15)  # Delay after sending 'R' signal\n",
    "\n",
    "        elif label == 1:\n",
    "            ser.write(b'Left hand grip\\n')   # Send 'Left hand grip' for label indicating left-hand movement\n",
    "            print(\"l\")\n",
    "            time.sleep(15)  # Delay after sending 'L' signal\n",
    "\n",
    "        else:\n",
    "            print(\"Invalid label. No control signal sent.\")\n",
    "\n",
    "        # Close serial port\n",
    "        ser.close()\n",
    "        print(\"Serial port closed.\")\n",
    "\n",
    "    except serial.SerialException as e:\n",
    "        print(\"Serial port error:\", e)\n"
   ]
  },
  {
   "cell_type": "code",
   "execution_count": null,
   "id": "2f233877-d4b6-4fb3-aabc-fe7bed7c1d04",
   "metadata": {},
   "outputs": [],
   "source": [
    "# Send control signals based on predicted labels\n",
    "for label in preds_fbcsp_clf_lda:\n",
    "    send_data_via_uart(label)\n",
    "    time.sleep(10)  # Add a delay between sending each label"
   ]
  }
 ],
 "metadata": {
  "kernelspec": {
   "display_name": "Python 3 (ipykernel)",
   "language": "python",
   "name": "python3"
  },
  "language_info": {
   "codemirror_mode": {
    "name": "ipython",
    "version": 3
   },
   "file_extension": ".py",
   "mimetype": "text/x-python",
   "name": "python",
   "nbconvert_exporter": "python",
   "pygments_lexer": "ipython3",
   "version": "3.8.3"
  }
 },
 "nbformat": 4,
 "nbformat_minor": 5
}
